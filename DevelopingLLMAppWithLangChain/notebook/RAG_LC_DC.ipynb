{
 "cells": [
  {
   "cell_type": "markdown",
   "metadata": {},
   "source": [
    "# RAG"
   ]
  },
  {
   "cell_type": "markdown",
   "metadata": {},
   "source": [
    "## Document Loader"
   ]
  },
  {
   "cell_type": "code",
   "execution_count": null,
   "metadata": {},
   "outputs": [],
   "source": [
    "# Install the langchain_community package\n",
    "# %pip install langchain_community\n",
    "# %pip install unstructured"
   ]
  },
  {
   "cell_type": "code",
   "execution_count": null,
   "metadata": {},
   "outputs": [],
   "source": [
    "# 1. PDF document loader\n",
    "\n",
    "from langchain_community.document_loaders import PyPDFLoader\n",
    "loader = PyPDFLoader(\"paht/to/file/attention_is_all_you_need.pdf\") # Load the PDF file\n",
    "data = loader.load() # Load the PDF file into memory\n",
    "print(data[0])\n",
    "print(loader.text) # Print the text of the PDF file\n"
   ]
  },
  {
   "cell_type": "code",
   "execution_count": null,
   "metadata": {},
   "outputs": [],
   "source": [
    "# 2. CSV document loader\n",
    "\n",
    "from langchain_community.document_loaders.csv_loader import CSVLoader\n",
    "loader = CSVLoader(\"fifa_countries_audience.csv\") # Load the PDF file\n",
    "\n",
    "data = loader.load() # Load the PDF file into memory\n",
    "print(data[0])"
   ]
  },
  {
   "cell_type": "code",
   "execution_count": null,
   "metadata": {},
   "outputs": [],
   "source": [
    "# 3. HTML document loader\n",
    "\n",
    "from langchain_community.document_loaders import UnstructuredHTMLLoader\n",
    "# loader = UnstructuredHTMLLoader(\"https://en.wikipedia.org/wiki/Deep_learning\") # Load the PDF file\n",
    "loader = UnstructuredHTMLLoader(\"white_house_executive_order_nov_2023\") # Load the PDF file\n",
    "\n",
    "data = loader.load() # Load the PDF file into memory\n",
    "print(data[0]) # Print the first document\n",
    "\n",
    "# Print the first document's metadata\n",
    "print(data[0].metadata)"
   ]
  },
  {
   "cell_type": "markdown",
   "metadata": {},
   "source": [
    "## Document Splitting"
   ]
  },
  {
   "cell_type": "code",
   "execution_count": null,
   "metadata": {},
   "outputs": [],
   "source": []
  }
 ],
 "metadata": {
  "kernelspec": {
   "display_name": "Python 3",
   "language": "python",
   "name": "python3"
  },
  "language_info": {
   "codemirror_mode": {
    "name": "ipython",
    "version": 3
   },
   "file_extension": ".py",
   "mimetype": "text/x-python",
   "name": "python",
   "nbconvert_exporter": "python",
   "pygments_lexer": "ipython3",
   "version": "3.11.9"
  }
 },
 "nbformat": 4,
 "nbformat_minor": 2
}
